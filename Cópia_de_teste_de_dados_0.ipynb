{
  "nbformat": 4,
  "nbformat_minor": 0,
  "metadata": {
    "colab": {
      "name": "Cópia de teste de dados 0.ipynb",
      "provenance": [],
      "mount_file_id": "1G9QZNy_U4e1xx_wS9PSkTTktiQiNb0pj",
      "authorship_tag": "ABX9TyOdPUjQ02xkaQs/e/Irx8bZ",
      "include_colab_link": true
    },
    "kernelspec": {
      "name": "python3",
      "display_name": "Python 3"
    },
    "language_info": {
      "name": "python"
    }
  },
  "cells": [
    {
      "cell_type": "markdown",
      "metadata": {
        "id": "view-in-github",
        "colab_type": "text"
      },
      "source": [
        "<a href=\"https://colab.research.google.com/github/REZENDE10/REZENDE10/blob/main/C%C3%B3pia_de_teste_de_dados_0.ipynb\" target=\"_parent\"><img src=\"https://colab.research.google.com/assets/colab-badge.svg\" alt=\"Open In Colab\"/></a>"
      ]
    },
    {
      "cell_type": "code",
      "metadata": {
        "id": "NJerdLnGrUgT"
      },
      "source": [
        "**//VAMOS ANÁLISAR OS DADOS ABERTOS DA RECEITA FEDERAL\n",
        "\n",
        "\n",
        "import pandas as pd\n"
      ],
      "execution_count": null,
      "outputs": []
    },
    {
      "cell_type": "code",
      "metadata": {
        "colab": {
          "base_uri": "https://localhost:8080/"
        },
        "id": "PdR1L5vrr-9T",
        "outputId": "742b0cd4-feb8-4fcc-f949-a64611003ac1"
      },
      "source": [
        "!pip install requests"
      ],
      "execution_count": null,
      "outputs": [
        {
          "output_type": "stream",
          "text": [
            "Requirement already satisfied: requests in /usr/local/lib/python3.7/dist-packages (2.23.0)\n",
            "Requirement already satisfied: idna<3,>=2.5 in /usr/local/lib/python3.7/dist-packages (from requests) (2.10)\n",
            "Requirement already satisfied: certifi>=2017.4.17 in /usr/local/lib/python3.7/dist-packages (from requests) (2021.5.30)\n",
            "Requirement already satisfied: urllib3!=1.25.0,!=1.25.1,<1.26,>=1.21.1 in /usr/local/lib/python3.7/dist-packages (from requests) (1.24.3)\n",
            "Requirement already satisfied: chardet<4,>=3.0.2 in /usr/local/lib/python3.7/dist-packages (from requests) (3.0.4)\n"
          ],
          "name": "stdout"
        }
      ]
    },
    {
      "cell_type": "code",
      "metadata": {
        "colab": {
          "base_uri": "https://localhost:8080/",
          "height": 204
        },
        "id": "kwcwr8V3vicf",
        "outputId": "9b93115e-9cc1-4ac1-aa07-120b47265143"
      },
      "source": [
        "df = pd.read_csv ('/content/Unidades de Atendimento da Receita Federal.csv')\n",
        "df.head ()"
      ],
      "execution_count": null,
      "outputs": [
        {
          "output_type": "execute_result",
          "data": {
            "text/html": [
              "<div>\n",
              "<style scoped>\n",
              "    .dataframe tbody tr th:only-of-type {\n",
              "        vertical-align: middle;\n",
              "    }\n",
              "\n",
              "    .dataframe tbody tr th {\n",
              "        vertical-align: top;\n",
              "    }\n",
              "\n",
              "    .dataframe thead th {\n",
              "        text-align: right;\n",
              "    }\n",
              "</style>\n",
              "<table border=\"1\" class=\"dataframe\">\n",
              "  <thead>\n",
              "    <tr style=\"text-align: right;\">\n",
              "      <th></th>\n",
              "      <th>Unidade</th>\n",
              "      <th>Logradouro</th>\n",
              "      <th>Bairro</th>\n",
              "      <th>Cidade</th>\n",
              "      <th>Estado</th>\n",
              "      <th>CEP</th>\n",
              "    </tr>\n",
              "  </thead>\n",
              "  <tbody>\n",
              "    <tr>\n",
              "      <th>0</th>\n",
              "      <td>ALF Alfândega do Porto de Vitória</td>\n",
              "      <td>Rua Governador José Sette, nº 176, térreo</td>\n",
              "      <td>Centro</td>\n",
              "      <td>Vitória</td>\n",
              "      <td>ES</td>\n",
              "      <td>29010-480</td>\n",
              "    </tr>\n",
              "    <tr>\n",
              "      <th>1</th>\n",
              "      <td>ALF Porto de Manaus</td>\n",
              "      <td>Rua Marques de Santa Cruz, S/ 202</td>\n",
              "      <td>CENTRO</td>\n",
              "      <td>Manaus</td>\n",
              "      <td>AM</td>\n",
              "      <td>69005-050</td>\n",
              "    </tr>\n",
              "    <tr>\n",
              "      <th>2</th>\n",
              "      <td>ARF Abaetetuba</td>\n",
              "      <td>Rua 15 de Agosto, nº 223</td>\n",
              "      <td>Centro</td>\n",
              "      <td>Abaetetuba</td>\n",
              "      <td>PA</td>\n",
              "      <td>68440-00</td>\n",
              "    </tr>\n",
              "    <tr>\n",
              "      <th>3</th>\n",
              "      <td>ARF Acaraú</td>\n",
              "      <td>Rua João Jaime Ferreira Gomes, nº 178</td>\n",
              "      <td>Centro</td>\n",
              "      <td>Acaraú</td>\n",
              "      <td>CE</td>\n",
              "      <td>62580-000</td>\n",
              "    </tr>\n",
              "    <tr>\n",
              "      <th>4</th>\n",
              "      <td>ARF Adamantina</td>\n",
              "      <td>Alameda Fernão Dias, nº 314</td>\n",
              "      <td>Centro</td>\n",
              "      <td>Adamantina</td>\n",
              "      <td>SP</td>\n",
              "      <td>17800-000</td>\n",
              "    </tr>\n",
              "  </tbody>\n",
              "</table>\n",
              "</div>"
            ],
            "text/plain": [
              "                             Unidade  ...        CEP\n",
              "0  ALF Alfândega do Porto de Vitória  ...  29010-480\n",
              "1                ALF Porto de Manaus  ...  69005-050\n",
              "2                     ARF Abaetetuba  ...   68440-00\n",
              "3                         ARF Acaraú  ...  62580-000\n",
              "4                     ARF Adamantina  ...  17800-000\n",
              "\n",
              "[5 rows x 6 columns]"
            ]
          },
          "metadata": {
            "tags": []
          },
          "execution_count": 20
        }
      ]
    },
    {
      "cell_type": "code",
      "metadata": {
        "colab": {
          "base_uri": "https://localhost:8080/"
        },
        "id": "BnmU2fT5xQ6F",
        "outputId": "ac36eb50-ba54-45b3-f1c5-8d48cda837f1"
      },
      "source": [
        "df.count ()"
      ],
      "execution_count": null,
      "outputs": [
        {
          "output_type": "execute_result",
          "data": {
            "text/plain": [
              "Unidade       406\n",
              "Logradouro    406\n",
              "Bairro        403\n",
              "Cidade        406\n",
              "Estado        406\n",
              "CEP           406\n",
              "dtype: int64"
            ]
          },
          "metadata": {
            "tags": []
          },
          "execution_count": 21
        }
      ]
    },
    {
      "cell_type": "code",
      "metadata": {
        "colab": {
          "base_uri": "https://localhost:8080/",
          "height": 173
        },
        "id": "0iMe0vojyUNa",
        "outputId": "b9b7c6d8-6797-4e03-cb57-83d2f0aaca3f"
      },
      "source": [
        "df.describe ()"
      ],
      "execution_count": null,
      "outputs": [
        {
          "output_type": "execute_result",
          "data": {
            "text/html": [
              "<div>\n",
              "<style scoped>\n",
              "    .dataframe tbody tr th:only-of-type {\n",
              "        vertical-align: middle;\n",
              "    }\n",
              "\n",
              "    .dataframe tbody tr th {\n",
              "        vertical-align: top;\n",
              "    }\n",
              "\n",
              "    .dataframe thead th {\n",
              "        text-align: right;\n",
              "    }\n",
              "</style>\n",
              "<table border=\"1\" class=\"dataframe\">\n",
              "  <thead>\n",
              "    <tr style=\"text-align: right;\">\n",
              "      <th></th>\n",
              "      <th>Unidade</th>\n",
              "      <th>Logradouro</th>\n",
              "      <th>Bairro</th>\n",
              "      <th>Cidade</th>\n",
              "      <th>Estado</th>\n",
              "      <th>CEP</th>\n",
              "    </tr>\n",
              "  </thead>\n",
              "  <tbody>\n",
              "    <tr>\n",
              "      <th>count</th>\n",
              "      <td>406</td>\n",
              "      <td>406</td>\n",
              "      <td>403</td>\n",
              "      <td>406</td>\n",
              "      <td>406</td>\n",
              "      <td>406</td>\n",
              "    </tr>\n",
              "    <tr>\n",
              "      <th>unique</th>\n",
              "      <td>404</td>\n",
              "      <td>405</td>\n",
              "      <td>124</td>\n",
              "      <td>389</td>\n",
              "      <td>23</td>\n",
              "      <td>405</td>\n",
              "    </tr>\n",
              "    <tr>\n",
              "      <th>top</th>\n",
              "      <td>ARF Itabaiana</td>\n",
              "      <td>Rua Brigadeiro Jordão, nº 622</td>\n",
              "      <td>Centro</td>\n",
              "      <td>São Paulo</td>\n",
              "      <td>SP</td>\n",
              "      <td>12460-000</td>\n",
              "    </tr>\n",
              "    <tr>\n",
              "      <th>freq</th>\n",
              "      <td>2</td>\n",
              "      <td>2</td>\n",
              "      <td>265</td>\n",
              "      <td>11</td>\n",
              "      <td>98</td>\n",
              "      <td>2</td>\n",
              "    </tr>\n",
              "  </tbody>\n",
              "</table>\n",
              "</div>"
            ],
            "text/plain": [
              "              Unidade                     Logradouro  ... Estado        CEP\n",
              "count             406                            406  ...    406        406\n",
              "unique            404                            405  ...     23        405\n",
              "top     ARF Itabaiana  Rua Brigadeiro Jordão, nº 622  ...     SP  12460-000\n",
              "freq                2                              2  ...     98          2\n",
              "\n",
              "[4 rows x 6 columns]"
            ]
          },
          "metadata": {
            "tags": []
          },
          "execution_count": 23
        }
      ]
    },
    {
      "cell_type": "code",
      "metadata": {
        "colab": {
          "base_uri": "https://localhost:8080/"
        },
        "id": "ZtRarfwozEvJ",
        "outputId": "96e6c900-eca0-4136-8a2a-0154ecabc51f"
      },
      "source": [
        "df.dtypes "
      ],
      "execution_count": null,
      "outputs": [
        {
          "output_type": "execute_result",
          "data": {
            "text/plain": [
              "Unidade       object\n",
              "Logradouro    object\n",
              "Bairro        object\n",
              "Cidade        object\n",
              "Estado        object\n",
              "CEP           object\n",
              "dtype: object"
            ]
          },
          "metadata": {
            "tags": []
          },
          "execution_count": 25
        }
      ]
    },
    {
      "cell_type": "code",
      "metadata": {
        "colab": {
          "base_uri": "https://localhost:8080/"
        },
        "id": "j-YjED8c0bhO",
        "outputId": "77293c06-dd95-491a-923c-f063a3f26b91"
      },
      "source": [
        "df['Cidade'] . value_counts()"
      ],
      "execution_count": null,
      "outputs": [
        {
          "output_type": "execute_result",
          "data": {
            "text/plain": [
              "São Paulo           11\n",
              "Manaus               3\n",
              "Vitória              2\n",
              "Campos do Jordão     2\n",
              "Itabaiana            2\n",
              "                    ..\n",
              "Humaitá              1\n",
              "Jardim               1\n",
              "Ceres                1\n",
              "Icó                  1\n",
              "Juiz de Fora         1\n",
              "Name: Cidade, Length: 389, dtype: int64"
            ]
          },
          "metadata": {
            "tags": []
          },
          "execution_count": 26
        }
      ]
    },
    {
      "cell_type": "code",
      "metadata": {
        "colab": {
          "base_uri": "https://localhost:8080/"
        },
        "id": "6h3_npxl1MtA",
        "outputId": "cb8ec3cc-dcf5-4c15-91ab-9046a21f8211"
      },
      "source": [
        "df['Bairro'] . value_counts ()"
      ],
      "execution_count": null,
      "outputs": [
        {
          "output_type": "execute_result",
          "data": {
            "text/plain": [
              "Centro              265\n",
              "CENTRO                8\n",
              "-                     3\n",
              "Bela Vista            3\n",
              "Santo Antônio         2\n",
              "                   ... \n",
              "Jardim Veraneio       1\n",
              "Nova Marabá           1\n",
              "Jardim Metrópole      1\n",
              "Maracanã              1\n",
              "JK                    1\n",
              "Name: Bairro, Length: 124, dtype: int64"
            ]
          },
          "metadata": {
            "tags": []
          },
          "execution_count": 27
        }
      ]
    },
    {
      "cell_type": "code",
      "metadata": {
        "colab": {
          "base_uri": "https://localhost:8080/"
        },
        "id": "HwS_VG8J2nP8",
        "outputId": "5d82f937-245d-4ac2-db8e-b4c6fd601e06"
      },
      "source": [
        "df['Estado'] .value_counts()"
      ],
      "execution_count": null,
      "outputs": [
        {
          "output_type": "execute_result",
          "data": {
            "text/plain": [
              "SP    98\n",
              "MG    54\n",
              "PR    36\n",
              "BA    36\n",
              "SC    24\n",
              "CE    19\n",
              "PA    16\n",
              "PE    14\n",
              "GO    13\n",
              "MA    12\n",
              "AM    11\n",
              "MS    11\n",
              "MT    10\n",
              "PB     9\n",
              "ES     8\n",
              "AL     7\n",
              "SE     6\n",
              "AC     6\n",
              "TO     6\n",
              "RR     4\n",
              "AP     3\n",
              "DF     2\n",
              "RO     1\n",
              "Name: Estado, dtype: int64"
            ]
          },
          "metadata": {
            "tags": []
          },
          "execution_count": 28
        }
      ]
    },
    {
      "cell_type": "code",
      "metadata": {
        "colab": {
          "base_uri": "https://localhost:8080/",
          "height": 289
        },
        "id": "YbLUxUQa24gm",
        "outputId": "4df1ba31-75ae-43ef-b3f2-77fcd5dc5212"
      },
      "source": [
        "%matplotlib inline\n",
        "df['Estado'].value_counts().plot.bar ()"
      ],
      "execution_count": null,
      "outputs": [
        {
          "output_type": "execute_result",
          "data": {
            "text/plain": [
              "<matplotlib.axes._subplots.AxesSubplot at 0x7f1d90f44c90>"
            ]
          },
          "metadata": {
            "tags": []
          },
          "execution_count": 32
        },
        {
          "output_type": "display_data",
          "data": {
            "image/png": "[encoded data removed]",
            "text/plain": [
              "<Figure size 432x288 with 1 Axes>"
            ]
          },
          "metadata": {
            "tags": [],
            "needs_background": "light"
          }
        }
      ]
    }
  ]
}